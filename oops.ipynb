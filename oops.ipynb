{
  "nbformat": 4,
  "nbformat_minor": 0,
  "metadata": {
    "colab": {
      "provenance": [],
      "authorship_tag": "ABX9TyMDjTUfy21iKhkUplL8cngG",
      "include_colab_link": true
    },
    "kernelspec": {
      "name": "python3",
      "display_name": "Python 3"
    },
    "language_info": {
      "name": "python"
    }
  },
  "cells": [
    {
      "cell_type": "markdown",
      "metadata": {
        "id": "view-in-github",
        "colab_type": "text"
      },
      "source": [
        "<a href=\"https://colab.research.google.com/github/KrunalVaghela62/newww/blob/main/Untitled0.ipynb\" target=\"_parent\"><img src=\"https://colab.research.google.com/assets/colab-badge.svg\" alt=\"Open In Colab\"/></a>"
      ]
    },
    {
      "cell_type": "markdown",
      "source": [],
      "metadata": {
        "id": "V5JocZ7GG8-H"
      }
    },
    {
      "cell_type": "code",
      "source": [
        "class car:\n",
        "    def __init__(self,make,model,price):\n",
        "        self.make=make\n",
        "        self.model=model\n",
        "        self._price=price\n",
        "    def control(self,new_price):\n",
        "        self._price=new_price\n",
        "class ElectricCar(car):\n",
        "    def __init__(self,make,model,price,battery_range):\n",
        "        super().__init__(make,model,price)\n",
        "        self.battery_range=battery_range\n",
        "    def get_info(self):\n",
        "        return {\"make\":self.make,\"model\":self.model,\"price\":self._price,\"battery_range\":self.battery_range}\n",
        "class SportsCar(car):\n",
        "    def __init__(self,make,model,price,top_speed):\n",
        "        super().__init__(make,model,price)\n",
        "        self.top_speed=top_speed\n",
        "    def get_info(self):\n",
        "        return {\"make\":self.make,\"model\":self.model,\"price\":self._price,\"top_speed\":self.top_speed}\n",
        "def loopy(vehicle):\n",
        "    return vehicle.get_info()"
      ],
      "metadata": {
        "id": "70XqY88gfRGl"
      },
      "execution_count": 10,
      "outputs": []
    },
    {
      "cell_type": "code",
      "source": [
        "\n",
        "my_car=car(\"toyot\",\"corolla\",20000)\n",
        "my_electric=ElectricCar(\"Ford\",\"Mustang\",30000,100)\n",
        "my_sports_car=SportsCar(\"bmw\",\"b-234\",200000,150)"
      ],
      "metadata": {
        "id": "yan7v4LBD9iw"
      },
      "execution_count": 11,
      "outputs": []
    },
    {
      "cell_type": "code",
      "source": [
        "loopy(my_electric)"
      ],
      "metadata": {
        "colab": {
          "base_uri": "https://localhost:8080/"
        },
        "id": "GRVS0gRVEppi",
        "outputId": "f04b26eb-9104-464e-9581-f3fcd4f3c866"
      },
      "execution_count": 12,
      "outputs": [
        {
          "output_type": "execute_result",
          "data": {
            "text/plain": [
              "{'make': 'Ford', 'model': 'Mustang', 'price': 30000, 'battery_range': 100}"
            ]
          },
          "metadata": {},
          "execution_count": 12
        }
      ]
    },
    {
      "cell_type": "code",
      "source": [],
      "metadata": {
        "id": "emlXr9HYGpJP"
      },
      "execution_count": null,
      "outputs": []
    }
  ]
}
